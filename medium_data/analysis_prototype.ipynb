{
 "cells": [
  {
   "cell_type": "code",
   "execution_count": 8,
   "id": "61ec2ac5",
   "metadata": {},
   "outputs": [],
   "source": [
    "import pprint\n",
    "import polars as pl\n"
   ]
  },
  {
   "cell_type": "code",
   "execution_count": 2,
   "id": "6bb8c415",
   "metadata": {},
   "outputs": [],
   "source": [
    "try:\n",
    "    df_sample = pl.read_parquet(\"../data/test.parquet\")\n",
    "\n",
    "except Exception as e:\n",
    "    print(f\"Error reading Parquet file: {e}\")"
   ]
  },
  {
   "cell_type": "code",
   "execution_count": 3,
   "id": "ac0fa7d6",
   "metadata": {},
   "outputs": [
    {
     "name": "stdout",
     "output_type": "stream",
     "text": [
      "jefe o jefa del hogar\n"
     ]
    }
   ],
   "source": [
    "print(df_sample[\"c5_p1\"][0])"
   ]
  },
  {
   "cell_type": "code",
   "execution_count": 4,
   "id": "f2e5b408",
   "metadata": {},
   "outputs": [
    {
     "data": {
      "text/html": [
       "<div><style>\n",
       ".dataframe > thead > tr,\n",
       ".dataframe > tbody > tr {\n",
       "  text-align: right;\n",
       "  white-space: pre-wrap;\n",
       "}\n",
       "</style>\n",
       "<small>shape: (5, 84)</small><table border=\"1\" class=\"dataframe\"><thead><tr><th>ccdd</th><th>ccpp</th><th>ccdi</th><th>area</th><th>encarea</th><th>viv</th><th>thogar</th><th>hog</th><th>c5_p1</th><th>c5_p2</th><th>c5_p4_1</th><th>c5_p4_1_mes</th><th>c5_p5</th><th>c5_p5b_cod</th><th>c5_p5c_cod</th><th>c5_p5a_cod</th><th>c5_p5d_cod</th><th>c5_p6</th><th>c5_p6b_cod</th><th>c5_p6c_cod</th><th>c5_p6a_cod</th><th>c5_p6d_cod</th><th>c5_p7</th><th>c5_p7b_cod</th><th>c5_p7c_cod</th><th>c5_p7a_cod</th><th>c5_p7d_cod</th><th>c5_p8_1</th><th>c5_p8_2</th><th>c5_p8_3</th><th>c5_p8_4</th><th>c5_p8_5</th><th>c5_p8_6</th><th>c5_p9_1</th><th>c5_p9_2</th><th>c5_p9_3</th><th>c5_p9_4</th><th>&hellip;</th><th>c5_p13_anio_esp</th><th>c5_p14</th><th>c5_p15</th><th>c5_p15b_cod</th><th>c5_p15c_cod</th><th>c5_p15a_cod</th><th>c5_p15d_cod</th><th>c5_p16</th><th>c5_p17</th><th>c5_p18</th><th>c5_p19_cod</th><th>c5_p20_cod</th><th>c5_p21</th><th>c5_p22</th><th>c5_p23</th><th>c5_p23b_cod</th><th>c5_p23c_cod</th><th>c5_p23a_cod</th><th>c5_p23d_cod</th><th>c5_p24</th><th>c5_p25_i_mc</th><th>c5_p25_o_a_mc</th><th>c5_p25_o_b_mc</th><th>c5_p25_o_mc</th><th>c5_p25_i_old</th><th>c5_p26</th><th>c5_p27</th><th>c5_p27_1</th><th>c5_p28</th><th>c5_p28_1</th><th>c5_p29_1</th><th>c5_p29_2</th><th>id_pob_imp_f</th><th>id_hog_imp_f</th><th>id_viv_imp_f</th><th>factor_pond</th><th>ubigeo2019</th></tr><tr><td>i64</td><td>i64</td><td>i64</td><td>str</td><td>str</td><td>i64</td><td>i64</td><td>i64</td><td>str</td><td>str</td><td>str</td><td>i64</td><td>str</td><td>i64</td><td>i64</td><td>i64</td><td>null</td><td>str</td><td>i64</td><td>i64</td><td>i64</td><td>i64</td><td>str</td><td>i64</td><td>i64</td><td>i64</td><td>i64</td><td>str</td><td>str</td><td>str</td><td>str</td><td>str</td><td>str</td><td>str</td><td>str</td><td>str</td><td>str</td><td>&hellip;</td><td>null</td><td>str</td><td>str</td><td>i64</td><td>i64</td><td>i64</td><td>null</td><td>str</td><td>str</td><td>str</td><td>i64</td><td>i64</td><td>str</td><td>str</td><td>str</td><td>i64</td><td>i64</td><td>i64</td><td>null</td><td>str</td><td>str</td><td>str</td><td>null</td><td>str</td><td>str</td><td>str</td><td>i64</td><td>str</td><td>str</td><td>null</td><td>i64</td><td>i64</td><td>i64</td><td>i64</td><td>i64</td><td>f64</td><td>i64</td></tr></thead><tbody><tr><td>1</td><td>1</td><td>1</td><td>&quot;urbano&quot;</td><td>&quot;urbano&quot;</td><td>22</td><td>1</td><td>1</td><td>&quot;jefe o jefa del hogar&quot;</td><td>&quot;mujer&quot;</td><td>&quot;edad 48 años&quot;</td><td>null</td><td>&quot;si, vive permanentemente en es…</td><td>null</td><td>null</td><td>null</td><td>null</td><td>&quot;si, vivía hace 5 años en este …</td><td>null</td><td>null</td><td>null</td><td>null</td><td>&quot;si, la madre vivía en este dis…</td><td>null</td><td>null</td><td>null</td><td>null</td><td>&quot;si, afiliado al sis&quot;</td><td>&quot;no, afiliado al essalud&quot;</td><td>&quot;no, afiliado al seguro de fuer…</td><td>&quot;no, afiliado a seguro privado …</td><td>&quot;no, afiliado a otro seguro&quot;</td><td>&quot;si, se encuentra afiliado a al…</td><td>&quot;no, tiene discapacidad para ve…</td><td>&quot;no, tiene discapacidad para oí…</td><td>&quot;no, tiene discapacidad para ha…</td><td>&quot;no, tiene discapacidad para mo…</td><td>&hellip;</td><td>null</td><td>&quot;no, asiste a algún colegió, in…</td><td>&quot;&quot;</td><td>null</td><td>null</td><td>null</td><td>null</td><td>&quot;no, trabajó por algún pago&quot;</td><td>&quot;estuvo al cuidado del hogar y …</td><td>&quot;no, la semana pasada estuvo bu…</td><td>null</td><td>null</td><td>&quot;&quot;</td><td>&quot;&quot;</td><td>&quot;&quot;</td><td>null</td><td>null</td><td>null</td><td>null</td><td>&quot;separado/a&quot;</td><td>&quot;mestizo&quot;</td><td>&quot;&quot;</td><td>null</td><td>&quot;&quot;</td><td>&quot;mestizo&quot;</td><td>&quot;católica&quot;</td><td>2</td><td>&quot;&quot;</td><td>&quot;2 hijos&quot;</td><td>null</td><td>4</td><td>1989</td><td>4010101000007868</td><td>2010101000741460</td><td>1010101001148705</td><td>1.1528908</td><td>10101</td></tr><tr><td>1</td><td>1</td><td>1</td><td>&quot;urbano&quot;</td><td>&quot;urbano&quot;</td><td>46</td><td>1</td><td>1</td><td>&quot;nieto(a)&quot;</td><td>&quot;mujer&quot;</td><td>&quot;edad 4 años&quot;</td><td>null</td><td>&quot;si, vive permanentemente en es…</td><td>null</td><td>null</td><td>null</td><td>null</td><td>&quot;aún no había nacido&quot;</td><td>null</td><td>null</td><td>null</td><td>null</td><td>&quot;si, la madre vivía en este dis…</td><td>null</td><td>null</td><td>null</td><td>null</td><td>&quot;si, afiliado al sis&quot;</td><td>&quot;no, afiliado al essalud&quot;</td><td>&quot;no, afiliado al seguro de fuer…</td><td>&quot;no, afiliado a seguro privado …</td><td>&quot;no, afiliado a otro seguro&quot;</td><td>&quot;si, se encuentra afiliado a al…</td><td>&quot;no, tiene discapacidad para ve…</td><td>&quot;no, tiene discapacidad para oí…</td><td>&quot;no, tiene discapacidad para ha…</td><td>&quot;no, tiene discapacidad para mo…</td><td>&hellip;</td><td>null</td><td>&quot;si, asiste a algún colegió, in…</td><td>&quot;aquí, en este distrito&quot;</td><td>null</td><td>null</td><td>null</td><td>null</td><td>&quot;&quot;</td><td>&quot;&quot;</td><td>&quot;&quot;</td><td>null</td><td>null</td><td>&quot;&quot;</td><td>&quot;&quot;</td><td>&quot;&quot;</td><td>null</td><td>null</td><td>null</td><td>null</td><td>&quot;&quot;</td><td>&quot;&quot;</td><td>&quot;&quot;</td><td>null</td><td>&quot;&quot;</td><td>&quot;&quot;</td><td>&quot;&quot;</td><td>null</td><td>&quot;&quot;</td><td>&quot;&quot;</td><td>null</td><td>null</td><td>null</td><td>4010101000047605</td><td>2010101000788283</td><td>1010101001209671</td><td>1.0710504</td><td>10101</td></tr><tr><td>1</td><td>1</td><td>1</td><td>&quot;urbano&quot;</td><td>&quot;urbano&quot;</td><td>3</td><td>2</td><td>2</td><td>&quot;jefe o jefa del hogar&quot;</td><td>&quot;mujer&quot;</td><td>&quot;edad 22 años&quot;</td><td>null</td><td>&quot;si, vive permanentemente en es…</td><td>null</td><td>null</td><td>null</td><td>null</td><td>&quot;si, vivía hace 5 años en este …</td><td>null</td><td>null</td><td>null</td><td>null</td><td>&quot;no, la madre vivía en este dis…</td><td>1</td><td>6</td><td>1</td><td>null</td><td>&quot;no, afiliado al sis&quot;</td><td>&quot;no, afiliado al essalud&quot;</td><td>&quot;no, afiliado al seguro de fuer…</td><td>&quot;no, afiliado a seguro privado …</td><td>&quot;no, afiliado a otro seguro&quot;</td><td>&quot;no, se encuentra afiliado a ni…</td><td>&quot;no, tiene discapacidad para ve…</td><td>&quot;no, tiene discapacidad para oí…</td><td>&quot;no, tiene discapacidad para ha…</td><td>&quot;no, tiene discapacidad para mo…</td><td>&hellip;</td><td>null</td><td>&quot;si, asiste a algún colegió, in…</td><td>&quot;aquí, en este distrito&quot;</td><td>null</td><td>null</td><td>null</td><td>null</td><td>&quot;si, trabajó por algún pago&quot;</td><td>&quot;&quot;</td><td>&quot;&quot;</td><td>4225</td><td>8411</td><td>&quot;empleado(a)&quot;</td><td>&quot;de 51 a más personas&quot;</td><td>&quot;aqui, en este distrito&quot;</td><td>null</td><td>null</td><td>null</td><td>null</td><td>&quot;soltero/a&quot;</td><td>&quot;mestizo&quot;</td><td>&quot;&quot;</td><td>null</td><td>&quot;&quot;</td><td>&quot;mestizo&quot;</td><td>&quot;católica&quot;</td><td>null</td><td>&quot;ninguno&quot;</td><td>&quot;&quot;</td><td>null</td><td>null</td><td>null</td><td>4010101000016421</td><td>2010101010393144</td><td>1010101001091432</td><td>1.1378204</td><td>10101</td></tr><tr><td>1</td><td>1</td><td>1</td><td>&quot;urbano&quot;</td><td>&quot;urbano&quot;</td><td>5</td><td>1</td><td>1</td><td>&quot;otro(a) pariente&quot;</td><td>&quot;hombre&quot;</td><td>&quot;edad 6 años&quot;</td><td>null</td><td>&quot;si, vive permanentemente en es…</td><td>null</td><td>null</td><td>null</td><td>null</td><td>&quot;si, vivía hace 5 años en este …</td><td>null</td><td>null</td><td>null</td><td>null</td><td>&quot;si, la madre vivía en este dis…</td><td>null</td><td>null</td><td>null</td><td>null</td><td>&quot;no, afiliado al sis&quot;</td><td>&quot;si, afiliado al essalud&quot;</td><td>&quot;no, afiliado al seguro de fuer…</td><td>&quot;no, afiliado a seguro privado …</td><td>&quot;no, afiliado a otro seguro&quot;</td><td>&quot;si, se encuentra afiliado a al…</td><td>&quot;no, tiene discapacidad para ve…</td><td>&quot;no, tiene discapacidad para oí…</td><td>&quot;no, tiene discapacidad para ha…</td><td>&quot;no, tiene discapacidad para mo…</td><td>&hellip;</td><td>null</td><td>&quot;si, asiste a algún colegió, in…</td><td>&quot;aquí, en este distrito&quot;</td><td>null</td><td>null</td><td>null</td><td>null</td><td>&quot;no, trabajó por algún pago&quot;</td><td>&quot;no trabajó&quot;</td><td>&quot;no, la semana pasada estuvo bu…</td><td>null</td><td>null</td><td>&quot;&quot;</td><td>&quot;&quot;</td><td>&quot;&quot;</td><td>null</td><td>null</td><td>null</td><td>null</td><td>&quot;&quot;</td><td>&quot;&quot;</td><td>&quot;&quot;</td><td>null</td><td>&quot;&quot;</td><td>&quot;&quot;</td><td>&quot;&quot;</td><td>null</td><td>&quot;&quot;</td><td>&quot;&quot;</td><td>null</td><td>null</td><td>null</td><td>4010101000275384</td><td>2010101000772644</td><td>1010101001189910</td><td>1.1020316</td><td>10101</td></tr><tr><td>1</td><td>1</td><td>1</td><td>&quot;urbano&quot;</td><td>&quot;urbano&quot;</td><td>5</td><td>1</td><td>1</td><td>&quot;nieto(a)&quot;</td><td>&quot;mujer&quot;</td><td>&quot;edad 3 años&quot;</td><td>null</td><td>&quot;si, vive permanentemente en es…</td><td>null</td><td>null</td><td>null</td><td>null</td><td>&quot;aún no había nacido&quot;</td><td>null</td><td>null</td><td>null</td><td>null</td><td>&quot;si, la madre vivía en este dis…</td><td>null</td><td>null</td><td>null</td><td>null</td><td>&quot;si, afiliado al sis&quot;</td><td>&quot;no, afiliado al essalud&quot;</td><td>&quot;no, afiliado al seguro de fuer…</td><td>&quot;no, afiliado a seguro privado …</td><td>&quot;no, afiliado a otro seguro&quot;</td><td>&quot;si, se encuentra afiliado a al…</td><td>&quot;no, tiene discapacidad para ve…</td><td>&quot;no, tiene discapacidad para oí…</td><td>&quot;no, tiene discapacidad para ha…</td><td>&quot;no, tiene discapacidad para mo…</td><td>&hellip;</td><td>null</td><td>&quot;no, asiste a algún colegió, in…</td><td>&quot;&quot;</td><td>null</td><td>null</td><td>null</td><td>null</td><td>&quot;&quot;</td><td>&quot;&quot;</td><td>&quot;&quot;</td><td>null</td><td>null</td><td>&quot;&quot;</td><td>&quot;&quot;</td><td>&quot;&quot;</td><td>null</td><td>null</td><td>null</td><td>null</td><td>&quot;&quot;</td><td>&quot;&quot;</td><td>&quot;&quot;</td><td>null</td><td>&quot;&quot;</td><td>&quot;&quot;</td><td>&quot;&quot;</td><td>null</td><td>&quot;&quot;</td><td>&quot;&quot;</td><td>null</td><td>null</td><td>null</td><td>4010101000252109</td><td>2010101007610228</td><td>1010101001110914</td><td>1.1382389</td><td>10101</td></tr></tbody></table></div>"
      ],
      "text/plain": [
       "shape: (5, 84)\n",
       "┌──────┬──────┬──────┬────────┬───┬──────────────────┬──────────────────┬─────────────┬────────────┐\n",
       "│ ccdd ┆ ccpp ┆ ccdi ┆ area   ┆ … ┆ id_hog_imp_f     ┆ id_viv_imp_f     ┆ factor_pond ┆ ubigeo2019 │\n",
       "│ ---  ┆ ---  ┆ ---  ┆ ---    ┆   ┆ ---              ┆ ---              ┆ ---         ┆ ---        │\n",
       "│ i64  ┆ i64  ┆ i64  ┆ str    ┆   ┆ i64              ┆ i64              ┆ f64         ┆ i64        │\n",
       "╞══════╪══════╪══════╪════════╪═══╪══════════════════╪══════════════════╪═════════════╪════════════╡\n",
       "│ 1    ┆ 1    ┆ 1    ┆ urbano ┆ … ┆ 2010101000741460 ┆ 1010101001148705 ┆ 1.1528908   ┆ 10101      │\n",
       "│ 1    ┆ 1    ┆ 1    ┆ urbano ┆ … ┆ 2010101000788283 ┆ 1010101001209671 ┆ 1.0710504   ┆ 10101      │\n",
       "│ 1    ┆ 1    ┆ 1    ┆ urbano ┆ … ┆ 2010101010393144 ┆ 1010101001091432 ┆ 1.1378204   ┆ 10101      │\n",
       "│ 1    ┆ 1    ┆ 1    ┆ urbano ┆ … ┆ 2010101000772644 ┆ 1010101001189910 ┆ 1.1020316   ┆ 10101      │\n",
       "│ 1    ┆ 1    ┆ 1    ┆ urbano ┆ … ┆ 2010101007610228 ┆ 1010101001110914 ┆ 1.1382389   ┆ 10101      │\n",
       "└──────┴──────┴──────┴────────┴───┴──────────────────┴──────────────────┴─────────────┴────────────┘"
      ]
     },
     "execution_count": 4,
     "metadata": {},
     "output_type": "execute_result"
    }
   ],
   "source": [
    "df_sample.head(5)"
   ]
  },
  {
   "cell_type": "code",
   "execution_count": 23,
   "id": "be6b18ae",
   "metadata": {},
   "outputs": [],
   "source": [
    "big_parquet = \"../data/CPV2017_POB-001.parquet\"\n",
    "lazy_df = pl.scan_parquet(big_parquet)"
   ]
  },
  {
   "cell_type": "code",
   "execution_count": null,
   "id": "bbfb20fd",
   "metadata": {},
   "outputs": [
    {
     "name": "stdout",
     "output_type": "stream",
     "text": [
      "Schema of the DataFrame:\n",
      "shape: (84, 2)\n",
      "┌──────────────┬─────────┐\n",
      "│ column       ┆ dtype   │\n",
      "│ ---          ┆ ---     │\n",
      "│ str          ┆ str     │\n",
      "╞══════════════╪═════════╡\n",
      "│ ccdd         ┆ Int64   │\n",
      "│ ccpp         ┆ Int64   │\n",
      "│ ccdi         ┆ Int64   │\n",
      "│ area         ┆ String  │\n",
      "│ encarea      ┆ String  │\n",
      "│ …            ┆ …       │\n",
      "│ id_pob_imp_f ┆ Int64   │\n",
      "│ id_hog_imp_f ┆ Int64   │\n",
      "│ id_viv_imp_f ┆ Int64   │\n",
      "│ factor_pond  ┆ Float64 │\n",
      "│ ubigeo2019   ┆ Int64   │\n",
      "└──────────────┴─────────┘\n",
      "Amount of columns: 84\n",
      "Schema([('ccdd', Int64), ('ccpp', Int64), ('ccdi', Int64), ('area', String), ('encarea', String), ('viv', Int64), ('thogar', Int64), ('hog', Int64), ('c5_p1', String), ('c5_p2', String), ('c5_p4_1', String), ('c5_p4_1_mes', Int64), ('c5_p5', String), ('c5_p5b_cod', Int64), ('c5_p5c_cod', Int64), ('c5_p5a_cod', Int64), ('c5_p5d_cod', Int64), ('c5_p6', String), ('c5_p6b_cod', Int64), ('c5_p6c_cod', Int64), ('c5_p6a_cod', Int64), ('c5_p6d_cod', Int64), ('c5_p7', String), ('c5_p7b_cod', Int64), ('c5_p7c_cod', Int64), ('c5_p7a_cod', Int64), ('c5_p7d_cod', Int64), ('c5_p8_1', String), ('c5_p8_2', String), ('c5_p8_3', String), ('c5_p8_4', String), ('c5_p8_5', String), ('c5_p8_6', String), ('c5_p9_1', String), ('c5_p9_2', String), ('c5_p9_3', String), ('c5_p9_4', String), ('c5_p9_5', String), ('c5_p9_6', String), ('c5_p9_7', String), ('c5_p10a', String), ('c5_p11', String), ('c5_p12', String), ('c5_p13_niv', String), ('c5_p13_gra', String), ('c5_p13_anio_pri', String), ('c5_p13_anio_sec', String), ('c5_p13_anio_esp', String), ('c5_p14', String), ('c5_p15', String), ('c5_p15b_cod', Int64), ('c5_p15c_cod', Int64), ('c5_p15a_cod', Int64), ('c5_p15d_cod', Int64), ('c5_p16', String), ('c5_p17', String), ('c5_p18', String), ('c5_p19_cod', Int64), ('c5_p20_cod', Int64), ('c5_p21', String), ('c5_p22', String), ('c5_p23', String), ('c5_p23b_cod', Int64), ('c5_p23c_cod', Int64), ('c5_p23a_cod', Int64), ('c5_p23d_cod', Int64), ('c5_p24', String), ('c5_p25_i_mc', String), ('c5_p25_o_a_mc', String), ('c5_p25_o_b_mc', String), ('c5_p25_o_mc', String), ('c5_p25_i_old', String), ('c5_p26', String), ('c5_p27', Int64), ('c5_p27_1', String), ('c5_p28', String), ('c5_p28_1', String), ('c5_p29_1', Int64), ('c5_p29_2', Int64), ('id_pob_imp_f', Int64), ('id_hog_imp_f', Int64), ('id_viv_imp_f', Int64), ('factor_pond', Float64), ('ubigeo2019', Int64)])\n"
     ]
    }
   ],
   "source": [
    "# Get a dictionary of column names and their data types\n",
    "schema = lazy_df.collect_schema()\n",
    "\n",
    "schema_df = pl.DataFrame({\n",
    "    \"column\": list(schema.keys()),\n",
    "    \"dtype\": [str(t) for t in schema.values()]\n",
    "})\n",
    "\n",
    "print(\"Schema of the DataFrame:\")\n",
    "print(schema_df)\n",
    "\n",
    "print(\"Amount of columns:\", len(schema_df))\n"
   ]
  },
  {
   "cell_type": "code",
   "execution_count": null,
   "id": "2478f7ad",
   "metadata": {},
   "outputs": [
    {
     "name": "stdout",
     "output_type": "stream",
     "text": [
      "Total rows (from metadata): 29381884\n"
     ]
    }
   ],
   "source": [
    "# Count the number of rows\n",
    "# Note: don't use polars for this task, as it will need to load the entire dataset into memory\n",
    "import pyarrow.parquet as pq\n",
    "\n",
    "pq_file = pq.ParquetFile(big_parquet)\n",
    "total_rows = pq_file.metadata.num_rows\n",
    "\n",
    "print(f\"Total rows (from metadata): {total_rows}\")\n"
   ]
  },
  {
   "cell_type": "code",
   "execution_count": 31,
   "id": "050c7138",
   "metadata": {},
   "outputs": [
    {
     "data": {
      "text/html": [
       "<div><style>\n",
       ".dataframe > thead > tr,\n",
       ".dataframe > tbody > tr {\n",
       "  text-align: right;\n",
       "  white-space: pre-wrap;\n",
       "}\n",
       "</style>\n",
       "<small>shape: (100, 84)</small><table border=\"1\" class=\"dataframe\"><thead><tr><th>ccdd</th><th>ccpp</th><th>ccdi</th><th>area</th><th>encarea</th><th>viv</th><th>thogar</th><th>hog</th><th>c5_p1</th><th>c5_p2</th><th>c5_p4_1</th><th>c5_p4_1_mes</th><th>c5_p5</th><th>c5_p5b_cod</th><th>c5_p5c_cod</th><th>c5_p5a_cod</th><th>c5_p5d_cod</th><th>c5_p6</th><th>c5_p6b_cod</th><th>c5_p6c_cod</th><th>c5_p6a_cod</th><th>c5_p6d_cod</th><th>c5_p7</th><th>c5_p7b_cod</th><th>c5_p7c_cod</th><th>c5_p7a_cod</th><th>c5_p7d_cod</th><th>c5_p8_1</th><th>c5_p8_2</th><th>c5_p8_3</th><th>c5_p8_4</th><th>c5_p8_5</th><th>c5_p8_6</th><th>c5_p9_1</th><th>c5_p9_2</th><th>c5_p9_3</th><th>c5_p9_4</th><th>&hellip;</th><th>c5_p13_anio_esp</th><th>c5_p14</th><th>c5_p15</th><th>c5_p15b_cod</th><th>c5_p15c_cod</th><th>c5_p15a_cod</th><th>c5_p15d_cod</th><th>c5_p16</th><th>c5_p17</th><th>c5_p18</th><th>c5_p19_cod</th><th>c5_p20_cod</th><th>c5_p21</th><th>c5_p22</th><th>c5_p23</th><th>c5_p23b_cod</th><th>c5_p23c_cod</th><th>c5_p23a_cod</th><th>c5_p23d_cod</th><th>c5_p24</th><th>c5_p25_i_mc</th><th>c5_p25_o_a_mc</th><th>c5_p25_o_b_mc</th><th>c5_p25_o_mc</th><th>c5_p25_i_old</th><th>c5_p26</th><th>c5_p27</th><th>c5_p27_1</th><th>c5_p28</th><th>c5_p28_1</th><th>c5_p29_1</th><th>c5_p29_2</th><th>id_pob_imp_f</th><th>id_hog_imp_f</th><th>id_viv_imp_f</th><th>factor_pond</th><th>ubigeo2019</th></tr><tr><td>i64</td><td>i64</td><td>i64</td><td>str</td><td>str</td><td>i64</td><td>i64</td><td>i64</td><td>str</td><td>str</td><td>str</td><td>i64</td><td>str</td><td>i64</td><td>i64</td><td>i64</td><td>i64</td><td>str</td><td>i64</td><td>i64</td><td>i64</td><td>i64</td><td>str</td><td>i64</td><td>i64</td><td>i64</td><td>i64</td><td>str</td><td>str</td><td>str</td><td>str</td><td>str</td><td>str</td><td>str</td><td>str</td><td>str</td><td>str</td><td>&hellip;</td><td>str</td><td>str</td><td>str</td><td>i64</td><td>i64</td><td>i64</td><td>i64</td><td>str</td><td>str</td><td>str</td><td>i64</td><td>i64</td><td>str</td><td>str</td><td>str</td><td>i64</td><td>i64</td><td>i64</td><td>i64</td><td>str</td><td>str</td><td>str</td><td>str</td><td>str</td><td>str</td><td>str</td><td>i64</td><td>str</td><td>str</td><td>str</td><td>i64</td><td>i64</td><td>i64</td><td>i64</td><td>i64</td><td>f64</td><td>i64</td></tr></thead><tbody><tr><td>1</td><td>1</td><td>1</td><td>&quot;urbano&quot;</td><td>&quot;urbano&quot;</td><td>22</td><td>1</td><td>1</td><td>&quot;jefe o jefa del hogar&quot;</td><td>&quot;mujer&quot;</td><td>&quot;edad 48 años&quot;</td><td>null</td><td>&quot;si, vive permanentemente en es…</td><td>null</td><td>null</td><td>null</td><td>null</td><td>&quot;si, vivía hace 5 años en este …</td><td>null</td><td>null</td><td>null</td><td>null</td><td>&quot;si, la madre vivía en este dis…</td><td>null</td><td>null</td><td>null</td><td>null</td><td>&quot;si, afiliado al sis&quot;</td><td>&quot;no, afiliado al essalud&quot;</td><td>&quot;no, afiliado al seguro de fuer…</td><td>&quot;no, afiliado a seguro privado …</td><td>&quot;no, afiliado a otro seguro&quot;</td><td>&quot;si, se encuentra afiliado a al…</td><td>&quot;no, tiene discapacidad para ve…</td><td>&quot;no, tiene discapacidad para oí…</td><td>&quot;no, tiene discapacidad para ha…</td><td>&quot;no, tiene discapacidad para mo…</td><td>&hellip;</td><td>&quot;&quot;</td><td>&quot;no, asiste a algún colegió, in…</td><td>&quot;&quot;</td><td>null</td><td>null</td><td>null</td><td>null</td><td>&quot;no, trabajó por algún pago&quot;</td><td>&quot;estuvo al cuidado del hogar y …</td><td>&quot;no, la semana pasada estuvo bu…</td><td>null</td><td>null</td><td>&quot;&quot;</td><td>&quot;&quot;</td><td>&quot;&quot;</td><td>null</td><td>null</td><td>null</td><td>null</td><td>&quot;separado/a&quot;</td><td>&quot;mestizo&quot;</td><td>&quot;&quot;</td><td>&quot;&quot;</td><td>&quot;&quot;</td><td>&quot;mestizo&quot;</td><td>&quot;católica&quot;</td><td>2</td><td>&quot;&quot;</td><td>&quot;2 hijos&quot;</td><td>&quot;&quot;</td><td>4</td><td>1989</td><td>4010101000007868</td><td>2010101000741460</td><td>1010101001148705</td><td>1.1528908</td><td>10101</td></tr><tr><td>1</td><td>1</td><td>1</td><td>&quot;urbano&quot;</td><td>&quot;urbano&quot;</td><td>46</td><td>1</td><td>1</td><td>&quot;nieto(a)&quot;</td><td>&quot;mujer&quot;</td><td>&quot;edad 4 años&quot;</td><td>null</td><td>&quot;si, vive permanentemente en es…</td><td>null</td><td>null</td><td>null</td><td>null</td><td>&quot;aún no había nacido&quot;</td><td>null</td><td>null</td><td>null</td><td>null</td><td>&quot;si, la madre vivía en este dis…</td><td>null</td><td>null</td><td>null</td><td>null</td><td>&quot;si, afiliado al sis&quot;</td><td>&quot;no, afiliado al essalud&quot;</td><td>&quot;no, afiliado al seguro de fuer…</td><td>&quot;no, afiliado a seguro privado …</td><td>&quot;no, afiliado a otro seguro&quot;</td><td>&quot;si, se encuentra afiliado a al…</td><td>&quot;no, tiene discapacidad para ve…</td><td>&quot;no, tiene discapacidad para oí…</td><td>&quot;no, tiene discapacidad para ha…</td><td>&quot;no, tiene discapacidad para mo…</td><td>&hellip;</td><td>&quot;&quot;</td><td>&quot;si, asiste a algún colegió, in…</td><td>&quot;aquí, en este distrito&quot;</td><td>null</td><td>null</td><td>null</td><td>null</td><td>&quot;&quot;</td><td>&quot;&quot;</td><td>&quot;&quot;</td><td>null</td><td>null</td><td>&quot;&quot;</td><td>&quot;&quot;</td><td>&quot;&quot;</td><td>null</td><td>null</td><td>null</td><td>null</td><td>&quot;&quot;</td><td>&quot;&quot;</td><td>&quot;&quot;</td><td>&quot;&quot;</td><td>&quot;&quot;</td><td>&quot;&quot;</td><td>&quot;&quot;</td><td>null</td><td>&quot;&quot;</td><td>&quot;&quot;</td><td>&quot;&quot;</td><td>null</td><td>null</td><td>4010101000047605</td><td>2010101000788283</td><td>1010101001209671</td><td>1.0710504</td><td>10101</td></tr><tr><td>1</td><td>1</td><td>1</td><td>&quot;urbano&quot;</td><td>&quot;urbano&quot;</td><td>3</td><td>2</td><td>2</td><td>&quot;jefe o jefa del hogar&quot;</td><td>&quot;mujer&quot;</td><td>&quot;edad 22 años&quot;</td><td>null</td><td>&quot;si, vive permanentemente en es…</td><td>null</td><td>null</td><td>null</td><td>null</td><td>&quot;si, vivía hace 5 años en este …</td><td>null</td><td>null</td><td>null</td><td>null</td><td>&quot;no, la madre vivía en este dis…</td><td>1</td><td>6</td><td>1</td><td>null</td><td>&quot;no, afiliado al sis&quot;</td><td>&quot;no, afiliado al essalud&quot;</td><td>&quot;no, afiliado al seguro de fuer…</td><td>&quot;no, afiliado a seguro privado …</td><td>&quot;no, afiliado a otro seguro&quot;</td><td>&quot;no, se encuentra afiliado a ni…</td><td>&quot;no, tiene discapacidad para ve…</td><td>&quot;no, tiene discapacidad para oí…</td><td>&quot;no, tiene discapacidad para ha…</td><td>&quot;no, tiene discapacidad para mo…</td><td>&hellip;</td><td>&quot;&quot;</td><td>&quot;si, asiste a algún colegió, in…</td><td>&quot;aquí, en este distrito&quot;</td><td>null</td><td>null</td><td>null</td><td>null</td><td>&quot;si, trabajó por algún pago&quot;</td><td>&quot;&quot;</td><td>&quot;&quot;</td><td>4225</td><td>8411</td><td>&quot;empleado(a)&quot;</td><td>&quot;de 51 a más personas&quot;</td><td>&quot;aqui, en este distrito&quot;</td><td>null</td><td>null</td><td>null</td><td>null</td><td>&quot;soltero/a&quot;</td><td>&quot;mestizo&quot;</td><td>&quot;&quot;</td><td>&quot;&quot;</td><td>&quot;&quot;</td><td>&quot;mestizo&quot;</td><td>&quot;católica&quot;</td><td>null</td><td>&quot;ninguno&quot;</td><td>&quot;&quot;</td><td>&quot;&quot;</td><td>null</td><td>null</td><td>4010101000016421</td><td>2010101010393144</td><td>1010101001091432</td><td>1.1378204</td><td>10101</td></tr><tr><td>1</td><td>1</td><td>1</td><td>&quot;urbano&quot;</td><td>&quot;urbano&quot;</td><td>5</td><td>1</td><td>1</td><td>&quot;otro(a) pariente&quot;</td><td>&quot;hombre&quot;</td><td>&quot;edad 6 años&quot;</td><td>null</td><td>&quot;si, vive permanentemente en es…</td><td>null</td><td>null</td><td>null</td><td>null</td><td>&quot;si, vivía hace 5 años en este …</td><td>null</td><td>null</td><td>null</td><td>null</td><td>&quot;si, la madre vivía en este dis…</td><td>null</td><td>null</td><td>null</td><td>null</td><td>&quot;no, afiliado al sis&quot;</td><td>&quot;si, afiliado al essalud&quot;</td><td>&quot;no, afiliado al seguro de fuer…</td><td>&quot;no, afiliado a seguro privado …</td><td>&quot;no, afiliado a otro seguro&quot;</td><td>&quot;si, se encuentra afiliado a al…</td><td>&quot;no, tiene discapacidad para ve…</td><td>&quot;no, tiene discapacidad para oí…</td><td>&quot;no, tiene discapacidad para ha…</td><td>&quot;no, tiene discapacidad para mo…</td><td>&hellip;</td><td>&quot;&quot;</td><td>&quot;si, asiste a algún colegió, in…</td><td>&quot;aquí, en este distrito&quot;</td><td>null</td><td>null</td><td>null</td><td>null</td><td>&quot;no, trabajó por algún pago&quot;</td><td>&quot;no trabajó&quot;</td><td>&quot;no, la semana pasada estuvo bu…</td><td>null</td><td>null</td><td>&quot;&quot;</td><td>&quot;&quot;</td><td>&quot;&quot;</td><td>null</td><td>null</td><td>null</td><td>null</td><td>&quot;&quot;</td><td>&quot;&quot;</td><td>&quot;&quot;</td><td>&quot;&quot;</td><td>&quot;&quot;</td><td>&quot;&quot;</td><td>&quot;&quot;</td><td>null</td><td>&quot;&quot;</td><td>&quot;&quot;</td><td>&quot;&quot;</td><td>null</td><td>null</td><td>4010101000275384</td><td>2010101000772644</td><td>1010101001189910</td><td>1.1020316</td><td>10101</td></tr><tr><td>1</td><td>1</td><td>1</td><td>&quot;urbano&quot;</td><td>&quot;urbano&quot;</td><td>5</td><td>1</td><td>1</td><td>&quot;nieto(a)&quot;</td><td>&quot;mujer&quot;</td><td>&quot;edad 3 años&quot;</td><td>null</td><td>&quot;si, vive permanentemente en es…</td><td>null</td><td>null</td><td>null</td><td>null</td><td>&quot;aún no había nacido&quot;</td><td>null</td><td>null</td><td>null</td><td>null</td><td>&quot;si, la madre vivía en este dis…</td><td>null</td><td>null</td><td>null</td><td>null</td><td>&quot;si, afiliado al sis&quot;</td><td>&quot;no, afiliado al essalud&quot;</td><td>&quot;no, afiliado al seguro de fuer…</td><td>&quot;no, afiliado a seguro privado …</td><td>&quot;no, afiliado a otro seguro&quot;</td><td>&quot;si, se encuentra afiliado a al…</td><td>&quot;no, tiene discapacidad para ve…</td><td>&quot;no, tiene discapacidad para oí…</td><td>&quot;no, tiene discapacidad para ha…</td><td>&quot;no, tiene discapacidad para mo…</td><td>&hellip;</td><td>&quot;&quot;</td><td>&quot;no, asiste a algún colegió, in…</td><td>&quot;&quot;</td><td>null</td><td>null</td><td>null</td><td>null</td><td>&quot;&quot;</td><td>&quot;&quot;</td><td>&quot;&quot;</td><td>null</td><td>null</td><td>&quot;&quot;</td><td>&quot;&quot;</td><td>&quot;&quot;</td><td>null</td><td>null</td><td>null</td><td>null</td><td>&quot;&quot;</td><td>&quot;&quot;</td><td>&quot;&quot;</td><td>&quot;&quot;</td><td>&quot;&quot;</td><td>&quot;&quot;</td><td>&quot;&quot;</td><td>null</td><td>&quot;&quot;</td><td>&quot;&quot;</td><td>&quot;&quot;</td><td>null</td><td>null</td><td>4010101000252109</td><td>2010101007610228</td><td>1010101001110914</td><td>1.1382389</td><td>10101</td></tr><tr><td>&hellip;</td><td>&hellip;</td><td>&hellip;</td><td>&hellip;</td><td>&hellip;</td><td>&hellip;</td><td>&hellip;</td><td>&hellip;</td><td>&hellip;</td><td>&hellip;</td><td>&hellip;</td><td>&hellip;</td><td>&hellip;</td><td>&hellip;</td><td>&hellip;</td><td>&hellip;</td><td>&hellip;</td><td>&hellip;</td><td>&hellip;</td><td>&hellip;</td><td>&hellip;</td><td>&hellip;</td><td>&hellip;</td><td>&hellip;</td><td>&hellip;</td><td>&hellip;</td><td>&hellip;</td><td>&hellip;</td><td>&hellip;</td><td>&hellip;</td><td>&hellip;</td><td>&hellip;</td><td>&hellip;</td><td>&hellip;</td><td>&hellip;</td><td>&hellip;</td><td>&hellip;</td><td>&hellip;</td><td>&hellip;</td><td>&hellip;</td><td>&hellip;</td><td>&hellip;</td><td>&hellip;</td><td>&hellip;</td><td>&hellip;</td><td>&hellip;</td><td>&hellip;</td><td>&hellip;</td><td>&hellip;</td><td>&hellip;</td><td>&hellip;</td><td>&hellip;</td><td>&hellip;</td><td>&hellip;</td><td>&hellip;</td><td>&hellip;</td><td>&hellip;</td><td>&hellip;</td><td>&hellip;</td><td>&hellip;</td><td>&hellip;</td><td>&hellip;</td><td>&hellip;</td><td>&hellip;</td><td>&hellip;</td><td>&hellip;</td><td>&hellip;</td><td>&hellip;</td><td>&hellip;</td><td>&hellip;</td><td>&hellip;</td><td>&hellip;</td><td>&hellip;</td><td>&hellip;</td><td>&hellip;</td></tr><tr><td>1</td><td>1</td><td>1</td><td>&quot;urbano&quot;</td><td>&quot;urbano&quot;</td><td>4</td><td>1</td><td>1</td><td>&quot;jefe o jefa del hogar&quot;</td><td>&quot;hombre&quot;</td><td>&quot;edad 56 años&quot;</td><td>null</td><td>&quot;si, vive permanentemente en es…</td><td>null</td><td>null</td><td>null</td><td>null</td><td>&quot;si, vivía hace 5 años en este …</td><td>null</td><td>null</td><td>null</td><td>null</td><td>&quot;no, la madre vivía en este dis…</td><td>1</td><td>5</td><td>11</td><td>null</td><td>&quot;no, afiliado al sis&quot;</td><td>&quot;no, afiliado al essalud&quot;</td><td>&quot;si, afiliado al seguro de fuer…</td><td>&quot;no, afiliado a seguro privado …</td><td>&quot;no, afiliado a otro seguro&quot;</td><td>&quot;si, se encuentra afiliado a al…</td><td>&quot;no, tiene discapacidad para ve…</td><td>&quot;no, tiene discapacidad para oí…</td><td>&quot;no, tiene discapacidad para ha…</td><td>&quot;no, tiene discapacidad para mo…</td><td>&hellip;</td><td>&quot;&quot;</td><td>&quot;no, asiste a algún colegió, in…</td><td>&quot;&quot;</td><td>null</td><td>null</td><td>null</td><td>null</td><td>&quot;si, trabajó por algún pago&quot;</td><td>&quot;&quot;</td><td>&quot;&quot;</td><td>7111</td><td>4100</td><td>&quot;obrero(a)&quot;</td><td>&quot;de 1 a 5 personas&quot;</td><td>&quot;aqui, en este distrito&quot;</td><td>null</td><td>null</td><td>null</td><td>null</td><td>&quot;casado/a&quot;</td><td>&quot;mestizo&quot;</td><td>&quot;&quot;</td><td>&quot;&quot;</td><td>&quot;&quot;</td><td>&quot;mestizo&quot;</td><td>&quot;católica&quot;</td><td>null</td><td>&quot;&quot;</td><td>&quot;&quot;</td><td>&quot;&quot;</td><td>null</td><td>null</td><td>4010101000005893</td><td>2010101000706421</td><td>1010101001071234</td><td>1.1014802</td><td>10101</td></tr><tr><td>1</td><td>1</td><td>1</td><td>&quot;urbano&quot;</td><td>&quot;urbano&quot;</td><td>2</td><td>1</td><td>1</td><td>&quot;nieto(a)&quot;</td><td>&quot;hombre&quot;</td><td>&quot;edad 11 años&quot;</td><td>null</td><td>&quot;si, vive permanentemente en es…</td><td>null</td><td>null</td><td>null</td><td>null</td><td>&quot;si, vivía hace 5 años en este …</td><td>null</td><td>null</td><td>null</td><td>null</td><td>&quot;si, la madre vivía en este dis…</td><td>null</td><td>null</td><td>null</td><td>null</td><td>&quot;si, afiliado al sis&quot;</td><td>&quot;no, afiliado al essalud&quot;</td><td>&quot;no, afiliado al seguro de fuer…</td><td>&quot;no, afiliado a seguro privado …</td><td>&quot;no, afiliado a otro seguro&quot;</td><td>&quot;si, se encuentra afiliado a al…</td><td>&quot;no, tiene discapacidad para ve…</td><td>&quot;no, tiene discapacidad para oí…</td><td>&quot;no, tiene discapacidad para ha…</td><td>&quot;no, tiene discapacidad para mo…</td><td>&hellip;</td><td>&quot;&quot;</td><td>&quot;si, asiste a algún colegió, in…</td><td>&quot;aquí, en este distrito&quot;</td><td>null</td><td>null</td><td>null</td><td>null</td><td>&quot;no, trabajó por algún pago&quot;</td><td>&quot;no trabajó&quot;</td><td>&quot;no, la semana pasada estuvo bu…</td><td>null</td><td>null</td><td>&quot;&quot;</td><td>&quot;&quot;</td><td>&quot;&quot;</td><td>null</td><td>null</td><td>null</td><td>null</td><td>&quot;&quot;</td><td>&quot;&quot;</td><td>&quot;&quot;</td><td>&quot;&quot;</td><td>&quot;&quot;</td><td>&quot;&quot;</td><td>&quot;&quot;</td><td>null</td><td>&quot;&quot;</td><td>&quot;&quot;</td><td>&quot;&quot;</td><td>null</td><td>null</td><td>4010101000359146</td><td>2010101008569917</td><td>1010101001216860</td><td>1.090356</td><td>10101</td></tr><tr><td>1</td><td>1</td><td>1</td><td>&quot;urbano&quot;</td><td>&quot;urbano&quot;</td><td>4</td><td>1</td><td>1</td><td>&quot;pensionista&quot;</td><td>&quot;hombre&quot;</td><td>&quot;edad 12 años&quot;</td><td>null</td><td>&quot;si, vive permanentemente en es…</td><td>null</td><td>null</td><td>null</td><td>null</td><td>&quot;no, vivía hace 5 años en este …</td><td>1</td><td>7</td><td>1</td><td>null</td><td>&quot;no, la madre vivía en este dis…</td><td>1</td><td>7</td><td>1</td><td>null</td><td>&quot;si, afiliado al sis&quot;</td><td>&quot;no, afiliado al essalud&quot;</td><td>&quot;no, afiliado al seguro de fuer…</td><td>&quot;no, afiliado a seguro privado …</td><td>&quot;no, afiliado a otro seguro&quot;</td><td>&quot;si, se encuentra afiliado a al…</td><td>&quot;no, tiene discapacidad para ve…</td><td>&quot;no, tiene discapacidad para oí…</td><td>&quot;no, tiene discapacidad para ha…</td><td>&quot;no, tiene discapacidad para mo…</td><td>&hellip;</td><td>&quot;&quot;</td><td>&quot;si, asiste a algún colegió, in…</td><td>&quot;aquí, en este distrito&quot;</td><td>null</td><td>null</td><td>null</td><td>null</td><td>&quot;no, trabajó por algún pago&quot;</td><td>&quot;no trabajó&quot;</td><td>&quot;no, la semana pasada estuvo bu…</td><td>null</td><td>null</td><td>&quot;&quot;</td><td>&quot;&quot;</td><td>&quot;&quot;</td><td>null</td><td>null</td><td>null</td><td>null</td><td>&quot;soltero/a&quot;</td><td>&quot;mestizo&quot;</td><td>&quot;&quot;</td><td>&quot;&quot;</td><td>&quot;&quot;</td><td>&quot;mestizo&quot;</td><td>&quot;católica&quot;</td><td>null</td><td>&quot;&quot;</td><td>&quot;&quot;</td><td>&quot;&quot;</td><td>null</td><td>null</td><td>4010101000005721</td><td>2010101000744536</td><td>1010101001155449</td><td>1.1099828</td><td>10101</td></tr><tr><td>1</td><td>1</td><td>1</td><td>&quot;urbano&quot;</td><td>&quot;urbano&quot;</td><td>8</td><td>1</td><td>1</td><td>&quot;jefe o jefa del hogar&quot;</td><td>&quot;hombre&quot;</td><td>&quot;edad 32 años&quot;</td><td>null</td><td>&quot;si, vive permanentemente en es…</td><td>null</td><td>null</td><td>null</td><td>null</td><td>&quot;si, vivía hace 5 años en este …</td><td>null</td><td>null</td><td>null</td><td>null</td><td>&quot;no, la madre vivía en este dis…</td><td>1</td><td>5</td><td>21</td><td>null</td><td>&quot;si, afiliado al sis&quot;</td><td>&quot;no, afiliado al essalud&quot;</td><td>&quot;no, afiliado al seguro de fuer…</td><td>&quot;no, afiliado a seguro privado …</td><td>&quot;no, afiliado a otro seguro&quot;</td><td>&quot;si, se encuentra afiliado a al…</td><td>&quot;no, tiene discapacidad para ve…</td><td>&quot;no, tiene discapacidad para oí…</td><td>&quot;no, tiene discapacidad para ha…</td><td>&quot;no, tiene discapacidad para mo…</td><td>&hellip;</td><td>&quot;&quot;</td><td>&quot;no, asiste a algún colegió, in…</td><td>&quot;&quot;</td><td>null</td><td>null</td><td>null</td><td>null</td><td>&quot;si, trabajó por algún pago&quot;</td><td>&quot;&quot;</td><td>&quot;&quot;</td><td>7111</td><td>4100</td><td>&quot;obrero(a)&quot;</td><td>&quot;de 6 a 10 personas&quot;</td><td>&quot;en otro distrito&quot;</td><td>1</td><td>5</td><td>21</td><td>null</td><td>&quot;conviviente&quot;</td><td>&quot;mestizo&quot;</td><td>&quot;&quot;</td><td>&quot;&quot;</td><td>&quot;&quot;</td><td>&quot;mestizo&quot;</td><td>&quot;católica&quot;</td><td>null</td><td>&quot;&quot;</td><td>&quot;&quot;</td><td>&quot;&quot;</td><td>null</td><td>null</td><td>4010101000013688</td><td>2010101000705458</td><td>1010101001056207</td><td>1.1451021</td><td>10101</td></tr><tr><td>1</td><td>1</td><td>1</td><td>&quot;urbano&quot;</td><td>&quot;urbano&quot;</td><td>5</td><td>1</td><td>1</td><td>&quot;jefe o jefa del hogar&quot;</td><td>&quot;hombre&quot;</td><td>&quot;edad 76 años&quot;</td><td>null</td><td>&quot;si, vive permanentemente en es…</td><td>null</td><td>null</td><td>null</td><td>null</td><td>&quot;si, vivía hace 5 años en este …</td><td>null</td><td>null</td><td>null</td><td>null</td><td>&quot;no, la madre vivía en este dis…</td><td>1</td><td>5</td><td>21</td><td>null</td><td>&quot;no, afiliado al sis&quot;</td><td>&quot;si, afiliado al essalud&quot;</td><td>&quot;no, afiliado al seguro de fuer…</td><td>&quot;no, afiliado a seguro privado …</td><td>&quot;no, afiliado a otro seguro&quot;</td><td>&quot;si, se encuentra afiliado a al…</td><td>&quot;no, tiene discapacidad para ve…</td><td>&quot;no, tiene discapacidad para oí…</td><td>&quot;no, tiene discapacidad para ha…</td><td>&quot;no, tiene discapacidad para mo…</td><td>&hellip;</td><td>&quot;&quot;</td><td>&quot;no, asiste a algún colegió, in…</td><td>&quot;&quot;</td><td>null</td><td>null</td><td>null</td><td>null</td><td>&quot;si, trabajó por algún pago&quot;</td><td>&quot;&quot;</td><td>&quot;&quot;</td><td>7322</td><td>3100</td><td>&quot;trabajador(a) independiente o …</td><td>&quot;de 1 a 5 personas&quot;</td><td>&quot;aqui, en este distrito&quot;</td><td>null</td><td>null</td><td>null</td><td>null</td><td>&quot;viudo/a&quot;</td><td>&quot;mestizo&quot;</td><td>&quot;&quot;</td><td>&quot;&quot;</td><td>&quot;&quot;</td><td>&quot;mestizo&quot;</td><td>&quot;católica&quot;</td><td>null</td><td>&quot;&quot;</td><td>&quot;&quot;</td><td>&quot;&quot;</td><td>null</td><td>null</td><td>4010101000115180</td><td>2010101000779136</td><td>1010101001202410</td><td>1.1124239</td><td>10101</td></tr></tbody></table></div>"
      ],
      "text/plain": [
       "shape: (100, 84)\n",
       "┌──────┬──────┬──────┬────────┬───┬──────────────────┬──────────────────┬─────────────┬────────────┐\n",
       "│ ccdd ┆ ccpp ┆ ccdi ┆ area   ┆ … ┆ id_hog_imp_f     ┆ id_viv_imp_f     ┆ factor_pond ┆ ubigeo2019 │\n",
       "│ ---  ┆ ---  ┆ ---  ┆ ---    ┆   ┆ ---              ┆ ---              ┆ ---         ┆ ---        │\n",
       "│ i64  ┆ i64  ┆ i64  ┆ str    ┆   ┆ i64              ┆ i64              ┆ f64         ┆ i64        │\n",
       "╞══════╪══════╪══════╪════════╪═══╪══════════════════╪══════════════════╪═════════════╪════════════╡\n",
       "│ 1    ┆ 1    ┆ 1    ┆ urbano ┆ … ┆ 2010101000741460 ┆ 1010101001148705 ┆ 1.1528908   ┆ 10101      │\n",
       "│ 1    ┆ 1    ┆ 1    ┆ urbano ┆ … ┆ 2010101000788283 ┆ 1010101001209671 ┆ 1.0710504   ┆ 10101      │\n",
       "│ 1    ┆ 1    ┆ 1    ┆ urbano ┆ … ┆ 2010101010393144 ┆ 1010101001091432 ┆ 1.1378204   ┆ 10101      │\n",
       "│ 1    ┆ 1    ┆ 1    ┆ urbano ┆ … ┆ 2010101000772644 ┆ 1010101001189910 ┆ 1.1020316   ┆ 10101      │\n",
       "│ 1    ┆ 1    ┆ 1    ┆ urbano ┆ … ┆ 2010101007610228 ┆ 1010101001110914 ┆ 1.1382389   ┆ 10101      │\n",
       "│ …    ┆ …    ┆ …    ┆ …      ┆ … ┆ …                ┆ …                ┆ …           ┆ …          │\n",
       "│ 1    ┆ 1    ┆ 1    ┆ urbano ┆ … ┆ 2010101000706421 ┆ 1010101001071234 ┆ 1.1014802   ┆ 10101      │\n",
       "│ 1    ┆ 1    ┆ 1    ┆ urbano ┆ … ┆ 2010101008569917 ┆ 1010101001216860 ┆ 1.090356    ┆ 10101      │\n",
       "│ 1    ┆ 1    ┆ 1    ┆ urbano ┆ … ┆ 2010101000744536 ┆ 1010101001155449 ┆ 1.1099828   ┆ 10101      │\n",
       "│ 1    ┆ 1    ┆ 1    ┆ urbano ┆ … ┆ 2010101000705458 ┆ 1010101001056207 ┆ 1.1451021   ┆ 10101      │\n",
       "│ 1    ┆ 1    ┆ 1    ┆ urbano ┆ … ┆ 2010101000779136 ┆ 1010101001202410 ┆ 1.1124239   ┆ 10101      │\n",
       "└──────┴──────┴──────┴────────┴───┴──────────────────┴──────────────────┴─────────────┴────────────┘"
      ]
     },
     "execution_count": 31,
     "metadata": {},
     "output_type": "execute_result"
    }
   ],
   "source": [
    "# Display the first 100 rows of the DataFrame\n",
    "lazy_df.head(100).collect()"
   ]
  }
 ],
 "metadata": {
  "kernelspec": {
   "display_name": ".venv",
   "language": "python",
   "name": "python3"
  },
  "language_info": {
   "codemirror_mode": {
    "name": "ipython",
    "version": 3
   },
   "file_extension": ".py",
   "mimetype": "text/x-python",
   "name": "python",
   "nbconvert_exporter": "python",
   "pygments_lexer": "ipython3",
   "version": "3.10.15"
  }
 },
 "nbformat": 4,
 "nbformat_minor": 5
}
