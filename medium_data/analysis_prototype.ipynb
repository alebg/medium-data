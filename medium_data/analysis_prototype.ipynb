{
 "cells": [
  {
   "cell_type": "code",
   "execution_count": 19,
   "id": "61ec2ac5",
   "metadata": {},
   "outputs": [],
   "source": [
    "import polars as pl\n"
   ]
  },
  {
   "cell_type": "code",
   "execution_count": 20,
   "id": "6bb8c415",
   "metadata": {},
   "outputs": [],
   "source": [
    "try:\n",
    "    df = pl.read_parquet(\"../data/test.parquet\")\n",
    "\n",
    "except Exception as e:\n",
    "    print(f\"Error reading Parquet file: {e}\")"
   ]
  },
  {
   "cell_type": "code",
   "execution_count": 21,
   "id": "ac0fa7d6",
   "metadata": {},
   "outputs": [
    {
     "name": "stdout",
     "output_type": "stream",
     "text": [
      "jefe o jefa del hogar\n"
     ]
    }
   ],
   "source": [
    "print(df[\"c5_p1\"][0])"
   ]
  },
  {
   "cell_type": "code",
   "execution_count": 23,
   "id": "f2e5b408",
   "metadata": {},
   "outputs": [
    {
     "data": {
      "text/html": [
       "<div><style>\n",
       ".dataframe > thead > tr,\n",
       ".dataframe > tbody > tr {\n",
       "  text-align: right;\n",
       "  white-space: pre-wrap;\n",
       "}\n",
       "</style>\n",
       "<small>shape: (5, 84)</small><table border=\"1\" class=\"dataframe\"><thead><tr><th>ccdd</th><th>ccpp</th><th>ccdi</th><th>area</th><th>encarea</th><th>viv</th><th>thogar</th><th>hog</th><th>c5_p1</th><th>c5_p2</th><th>c5_p4_1</th><th>c5_p4_1_mes</th><th>c5_p5</th><th>c5_p5b_cod</th><th>c5_p5c_cod</th><th>c5_p5a_cod</th><th>c5_p5d_cod</th><th>c5_p6</th><th>c5_p6b_cod</th><th>c5_p6c_cod</th><th>c5_p6a_cod</th><th>c5_p6d_cod</th><th>c5_p7</th><th>c5_p7b_cod</th><th>c5_p7c_cod</th><th>c5_p7a_cod</th><th>c5_p7d_cod</th><th>c5_p8_1</th><th>c5_p8_2</th><th>c5_p8_3</th><th>c5_p8_4</th><th>c5_p8_5</th><th>c5_p8_6</th><th>c5_p9_1</th><th>c5_p9_2</th><th>c5_p9_3</th><th>c5_p9_4</th><th>&hellip;</th><th>c5_p13_anio_esp</th><th>c5_p14</th><th>c5_p15</th><th>c5_p15b_cod</th><th>c5_p15c_cod</th><th>c5_p15a_cod</th><th>c5_p15d_cod</th><th>c5_p16</th><th>c5_p17</th><th>c5_p18</th><th>c5_p19_cod</th><th>c5_p20_cod</th><th>c5_p21</th><th>c5_p22</th><th>c5_p23</th><th>c5_p23b_cod</th><th>c5_p23c_cod</th><th>c5_p23a_cod</th><th>c5_p23d_cod</th><th>c5_p24</th><th>c5_p25_i_mc</th><th>c5_p25_o_a_mc</th><th>c5_p25_o_b_mc</th><th>c5_p25_o_mc</th><th>c5_p25_i_old</th><th>c5_p26</th><th>c5_p27</th><th>c5_p27_1</th><th>c5_p28</th><th>c5_p28_1</th><th>c5_p29_1</th><th>c5_p29_2</th><th>id_pob_imp_f</th><th>id_hog_imp_f</th><th>id_viv_imp_f</th><th>factor_pond</th><th>ubigeo2019</th></tr><tr><td>i64</td><td>i64</td><td>i64</td><td>str</td><td>str</td><td>i64</td><td>i64</td><td>i64</td><td>str</td><td>str</td><td>str</td><td>i64</td><td>str</td><td>i64</td><td>i64</td><td>i64</td><td>null</td><td>str</td><td>i64</td><td>i64</td><td>i64</td><td>i64</td><td>str</td><td>i64</td><td>i64</td><td>i64</td><td>i64</td><td>str</td><td>str</td><td>str</td><td>str</td><td>str</td><td>str</td><td>str</td><td>str</td><td>str</td><td>str</td><td>&hellip;</td><td>null</td><td>str</td><td>str</td><td>i64</td><td>i64</td><td>i64</td><td>null</td><td>str</td><td>str</td><td>str</td><td>i64</td><td>i64</td><td>str</td><td>str</td><td>str</td><td>i64</td><td>i64</td><td>i64</td><td>null</td><td>str</td><td>str</td><td>str</td><td>null</td><td>str</td><td>str</td><td>str</td><td>i64</td><td>str</td><td>str</td><td>null</td><td>i64</td><td>i64</td><td>i64</td><td>i64</td><td>i64</td><td>f64</td><td>i64</td></tr></thead><tbody><tr><td>1</td><td>1</td><td>1</td><td>&quot;urbano&quot;</td><td>&quot;urbano&quot;</td><td>22</td><td>1</td><td>1</td><td>&quot;jefe o jefa del hogar&quot;</td><td>&quot;mujer&quot;</td><td>&quot;edad 48 años&quot;</td><td>null</td><td>&quot;si, vive permanentemente en es…</td><td>null</td><td>null</td><td>null</td><td>null</td><td>&quot;si, vivía hace 5 años en este …</td><td>null</td><td>null</td><td>null</td><td>null</td><td>&quot;si, la madre vivía en este dis…</td><td>null</td><td>null</td><td>null</td><td>null</td><td>&quot;si, afiliado al sis&quot;</td><td>&quot;no, afiliado al essalud&quot;</td><td>&quot;no, afiliado al seguro de fuer…</td><td>&quot;no, afiliado a seguro privado …</td><td>&quot;no, afiliado a otro seguro&quot;</td><td>&quot;si, se encuentra afiliado a al…</td><td>&quot;no, tiene discapacidad para ve…</td><td>&quot;no, tiene discapacidad para oí…</td><td>&quot;no, tiene discapacidad para ha…</td><td>&quot;no, tiene discapacidad para mo…</td><td>&hellip;</td><td>null</td><td>&quot;no, asiste a algún colegió, in…</td><td>&quot;&quot;</td><td>null</td><td>null</td><td>null</td><td>null</td><td>&quot;no, trabajó por algún pago&quot;</td><td>&quot;estuvo al cuidado del hogar y …</td><td>&quot;no, la semana pasada estuvo bu…</td><td>null</td><td>null</td><td>&quot;&quot;</td><td>&quot;&quot;</td><td>&quot;&quot;</td><td>null</td><td>null</td><td>null</td><td>null</td><td>&quot;separado/a&quot;</td><td>&quot;mestizo&quot;</td><td>&quot;&quot;</td><td>null</td><td>&quot;&quot;</td><td>&quot;mestizo&quot;</td><td>&quot;católica&quot;</td><td>2</td><td>&quot;&quot;</td><td>&quot;2 hijos&quot;</td><td>null</td><td>4</td><td>1989</td><td>4010101000007868</td><td>2010101000741460</td><td>1010101001148705</td><td>1.1528908</td><td>10101</td></tr><tr><td>1</td><td>1</td><td>1</td><td>&quot;urbano&quot;</td><td>&quot;urbano&quot;</td><td>46</td><td>1</td><td>1</td><td>&quot;nieto(a)&quot;</td><td>&quot;mujer&quot;</td><td>&quot;edad 4 años&quot;</td><td>null</td><td>&quot;si, vive permanentemente en es…</td><td>null</td><td>null</td><td>null</td><td>null</td><td>&quot;aún no había nacido&quot;</td><td>null</td><td>null</td><td>null</td><td>null</td><td>&quot;si, la madre vivía en este dis…</td><td>null</td><td>null</td><td>null</td><td>null</td><td>&quot;si, afiliado al sis&quot;</td><td>&quot;no, afiliado al essalud&quot;</td><td>&quot;no, afiliado al seguro de fuer…</td><td>&quot;no, afiliado a seguro privado …</td><td>&quot;no, afiliado a otro seguro&quot;</td><td>&quot;si, se encuentra afiliado a al…</td><td>&quot;no, tiene discapacidad para ve…</td><td>&quot;no, tiene discapacidad para oí…</td><td>&quot;no, tiene discapacidad para ha…</td><td>&quot;no, tiene discapacidad para mo…</td><td>&hellip;</td><td>null</td><td>&quot;si, asiste a algún colegió, in…</td><td>&quot;aquí, en este distrito&quot;</td><td>null</td><td>null</td><td>null</td><td>null</td><td>&quot;&quot;</td><td>&quot;&quot;</td><td>&quot;&quot;</td><td>null</td><td>null</td><td>&quot;&quot;</td><td>&quot;&quot;</td><td>&quot;&quot;</td><td>null</td><td>null</td><td>null</td><td>null</td><td>&quot;&quot;</td><td>&quot;&quot;</td><td>&quot;&quot;</td><td>null</td><td>&quot;&quot;</td><td>&quot;&quot;</td><td>&quot;&quot;</td><td>null</td><td>&quot;&quot;</td><td>&quot;&quot;</td><td>null</td><td>null</td><td>null</td><td>4010101000047605</td><td>2010101000788283</td><td>1010101001209671</td><td>1.0710504</td><td>10101</td></tr><tr><td>1</td><td>1</td><td>1</td><td>&quot;urbano&quot;</td><td>&quot;urbano&quot;</td><td>3</td><td>2</td><td>2</td><td>&quot;jefe o jefa del hogar&quot;</td><td>&quot;mujer&quot;</td><td>&quot;edad 22 años&quot;</td><td>null</td><td>&quot;si, vive permanentemente en es…</td><td>null</td><td>null</td><td>null</td><td>null</td><td>&quot;si, vivía hace 5 años en este …</td><td>null</td><td>null</td><td>null</td><td>null</td><td>&quot;no, la madre vivía en este dis…</td><td>1</td><td>6</td><td>1</td><td>null</td><td>&quot;no, afiliado al sis&quot;</td><td>&quot;no, afiliado al essalud&quot;</td><td>&quot;no, afiliado al seguro de fuer…</td><td>&quot;no, afiliado a seguro privado …</td><td>&quot;no, afiliado a otro seguro&quot;</td><td>&quot;no, se encuentra afiliado a ni…</td><td>&quot;no, tiene discapacidad para ve…</td><td>&quot;no, tiene discapacidad para oí…</td><td>&quot;no, tiene discapacidad para ha…</td><td>&quot;no, tiene discapacidad para mo…</td><td>&hellip;</td><td>null</td><td>&quot;si, asiste a algún colegió, in…</td><td>&quot;aquí, en este distrito&quot;</td><td>null</td><td>null</td><td>null</td><td>null</td><td>&quot;si, trabajó por algún pago&quot;</td><td>&quot;&quot;</td><td>&quot;&quot;</td><td>4225</td><td>8411</td><td>&quot;empleado(a)&quot;</td><td>&quot;de 51 a más personas&quot;</td><td>&quot;aqui, en este distrito&quot;</td><td>null</td><td>null</td><td>null</td><td>null</td><td>&quot;soltero/a&quot;</td><td>&quot;mestizo&quot;</td><td>&quot;&quot;</td><td>null</td><td>&quot;&quot;</td><td>&quot;mestizo&quot;</td><td>&quot;católica&quot;</td><td>null</td><td>&quot;ninguno&quot;</td><td>&quot;&quot;</td><td>null</td><td>null</td><td>null</td><td>4010101000016421</td><td>2010101010393144</td><td>1010101001091432</td><td>1.1378204</td><td>10101</td></tr><tr><td>1</td><td>1</td><td>1</td><td>&quot;urbano&quot;</td><td>&quot;urbano&quot;</td><td>5</td><td>1</td><td>1</td><td>&quot;otro(a) pariente&quot;</td><td>&quot;hombre&quot;</td><td>&quot;edad 6 años&quot;</td><td>null</td><td>&quot;si, vive permanentemente en es…</td><td>null</td><td>null</td><td>null</td><td>null</td><td>&quot;si, vivía hace 5 años en este …</td><td>null</td><td>null</td><td>null</td><td>null</td><td>&quot;si, la madre vivía en este dis…</td><td>null</td><td>null</td><td>null</td><td>null</td><td>&quot;no, afiliado al sis&quot;</td><td>&quot;si, afiliado al essalud&quot;</td><td>&quot;no, afiliado al seguro de fuer…</td><td>&quot;no, afiliado a seguro privado …</td><td>&quot;no, afiliado a otro seguro&quot;</td><td>&quot;si, se encuentra afiliado a al…</td><td>&quot;no, tiene discapacidad para ve…</td><td>&quot;no, tiene discapacidad para oí…</td><td>&quot;no, tiene discapacidad para ha…</td><td>&quot;no, tiene discapacidad para mo…</td><td>&hellip;</td><td>null</td><td>&quot;si, asiste a algún colegió, in…</td><td>&quot;aquí, en este distrito&quot;</td><td>null</td><td>null</td><td>null</td><td>null</td><td>&quot;no, trabajó por algún pago&quot;</td><td>&quot;no trabajó&quot;</td><td>&quot;no, la semana pasada estuvo bu…</td><td>null</td><td>null</td><td>&quot;&quot;</td><td>&quot;&quot;</td><td>&quot;&quot;</td><td>null</td><td>null</td><td>null</td><td>null</td><td>&quot;&quot;</td><td>&quot;&quot;</td><td>&quot;&quot;</td><td>null</td><td>&quot;&quot;</td><td>&quot;&quot;</td><td>&quot;&quot;</td><td>null</td><td>&quot;&quot;</td><td>&quot;&quot;</td><td>null</td><td>null</td><td>null</td><td>4010101000275384</td><td>2010101000772644</td><td>1010101001189910</td><td>1.1020316</td><td>10101</td></tr><tr><td>1</td><td>1</td><td>1</td><td>&quot;urbano&quot;</td><td>&quot;urbano&quot;</td><td>5</td><td>1</td><td>1</td><td>&quot;nieto(a)&quot;</td><td>&quot;mujer&quot;</td><td>&quot;edad 3 años&quot;</td><td>null</td><td>&quot;si, vive permanentemente en es…</td><td>null</td><td>null</td><td>null</td><td>null</td><td>&quot;aún no había nacido&quot;</td><td>null</td><td>null</td><td>null</td><td>null</td><td>&quot;si, la madre vivía en este dis…</td><td>null</td><td>null</td><td>null</td><td>null</td><td>&quot;si, afiliado al sis&quot;</td><td>&quot;no, afiliado al essalud&quot;</td><td>&quot;no, afiliado al seguro de fuer…</td><td>&quot;no, afiliado a seguro privado …</td><td>&quot;no, afiliado a otro seguro&quot;</td><td>&quot;si, se encuentra afiliado a al…</td><td>&quot;no, tiene discapacidad para ve…</td><td>&quot;no, tiene discapacidad para oí…</td><td>&quot;no, tiene discapacidad para ha…</td><td>&quot;no, tiene discapacidad para mo…</td><td>&hellip;</td><td>null</td><td>&quot;no, asiste a algún colegió, in…</td><td>&quot;&quot;</td><td>null</td><td>null</td><td>null</td><td>null</td><td>&quot;&quot;</td><td>&quot;&quot;</td><td>&quot;&quot;</td><td>null</td><td>null</td><td>&quot;&quot;</td><td>&quot;&quot;</td><td>&quot;&quot;</td><td>null</td><td>null</td><td>null</td><td>null</td><td>&quot;&quot;</td><td>&quot;&quot;</td><td>&quot;&quot;</td><td>null</td><td>&quot;&quot;</td><td>&quot;&quot;</td><td>&quot;&quot;</td><td>null</td><td>&quot;&quot;</td><td>&quot;&quot;</td><td>null</td><td>null</td><td>null</td><td>4010101000252109</td><td>2010101007610228</td><td>1010101001110914</td><td>1.1382389</td><td>10101</td></tr></tbody></table></div>"
      ],
      "text/plain": [
       "shape: (5, 84)\n",
       "┌──────┬──────┬──────┬────────┬───┬──────────────────┬──────────────────┬─────────────┬────────────┐\n",
       "│ ccdd ┆ ccpp ┆ ccdi ┆ area   ┆ … ┆ id_hog_imp_f     ┆ id_viv_imp_f     ┆ factor_pond ┆ ubigeo2019 │\n",
       "│ ---  ┆ ---  ┆ ---  ┆ ---    ┆   ┆ ---              ┆ ---              ┆ ---         ┆ ---        │\n",
       "│ i64  ┆ i64  ┆ i64  ┆ str    ┆   ┆ i64              ┆ i64              ┆ f64         ┆ i64        │\n",
       "╞══════╪══════╪══════╪════════╪═══╪══════════════════╪══════════════════╪═════════════╪════════════╡\n",
       "│ 1    ┆ 1    ┆ 1    ┆ urbano ┆ … ┆ 2010101000741460 ┆ 1010101001148705 ┆ 1.1528908   ┆ 10101      │\n",
       "│ 1    ┆ 1    ┆ 1    ┆ urbano ┆ … ┆ 2010101000788283 ┆ 1010101001209671 ┆ 1.0710504   ┆ 10101      │\n",
       "│ 1    ┆ 1    ┆ 1    ┆ urbano ┆ … ┆ 2010101010393144 ┆ 1010101001091432 ┆ 1.1378204   ┆ 10101      │\n",
       "│ 1    ┆ 1    ┆ 1    ┆ urbano ┆ … ┆ 2010101000772644 ┆ 1010101001189910 ┆ 1.1020316   ┆ 10101      │\n",
       "│ 1    ┆ 1    ┆ 1    ┆ urbano ┆ … ┆ 2010101007610228 ┆ 1010101001110914 ┆ 1.1382389   ┆ 10101      │\n",
       "└──────┴──────┴──────┴────────┴───┴──────────────────┴──────────────────┴─────────────┴────────────┘"
      ]
     },
     "execution_count": 23,
     "metadata": {},
     "output_type": "execute_result"
    }
   ],
   "source": [
    "df.head(5)"
   ]
  }
 ],
 "metadata": {
  "kernelspec": {
   "display_name": ".venv",
   "language": "python",
   "name": "python3"
  },
  "language_info": {
   "codemirror_mode": {
    "name": "ipython",
    "version": 3
   },
   "file_extension": ".py",
   "mimetype": "text/x-python",
   "name": "python",
   "nbconvert_exporter": "python",
   "pygments_lexer": "ipython3",
   "version": "3.10.15"
  }
 },
 "nbformat": 4,
 "nbformat_minor": 5
}
